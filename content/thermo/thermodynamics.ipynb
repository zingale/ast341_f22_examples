{
 "cells": [
  {
   "cell_type": "markdown",
   "id": "c9c239f6-c66c-43a6-b1cc-4b8755f99b8b",
   "metadata": {},
   "source": [
    "# Thermodynamics and the Maxwell-Boltzmann distribution\n",
    "\n",
    "Here we use SymPy to learn a bit about ideal gases"
   ]
  },
  {
   "cell_type": "code",
   "execution_count": 21,
   "id": "9dc7b80d-7be4-426c-b934-adc5083b02cf",
   "metadata": {},
   "outputs": [
    {
     "name": "stdout",
     "output_type": "stream",
     "text": [
      "IPython console for SymPy 1.11.1 (Python 3.10.6-64-bit) (ground types: python)\n",
      "\n",
      "These commands were executed:\n",
      ">>> from sympy import *\n",
      ">>> x, y, z, t = symbols('x y z t')\n",
      ">>> k, m, n = symbols('k m n', integer=True)\n",
      ">>> f, g, h = symbols('f g h', cls=Function)\n",
      ">>> init_printing()\n",
      "\n",
      "Documentation can be found at https://docs.sympy.org/1.11.1/\n",
      "\n"
     ]
    }
   ],
   "source": [
    "from sympy import init_session\n",
    "init_session()\n",
    "%matplotlib inline"
   ]
  },
  {
   "cell_type": "markdown",
   "id": "bc7a2ee2-c2d2-4f87-ad98-c9d62bb6a77d",
   "metadata": {},
   "source": [
    "Note: we need to tell SymPy that some of these quantities are real and positive so it is able to do the integrals without worrying about complex numbers"
   ]
  },
  {
   "cell_type": "code",
   "execution_count": 22,
   "id": "7f2bd1fc-298b-4378-afa3-0d3493a5335d",
   "metadata": {},
   "outputs": [],
   "source": [
    "ni, m, k, T = symbols(\"n_I m k_B T\", real=True, positive=True)\n",
    "p, v = symbols(\"p v\", real=True)\n",
    "n = symbols(\"n\")"
   ]
  },
  {
   "cell_type": "markdown",
   "id": "e21191a0-32c3-412c-9e3b-c427c44a27a9",
   "metadata": {},
   "source": [
    "Let's write the Maxwell-Boltzmann distribution, already transformed into spherical coordinates:\n",
    "\n",
    "$$n(p) d^3 p \\rightarrow 4\\pi p^2 n(p) dp$$\n",
    "\n",
    "our `n` here includes the $4\\pi p^2$"
   ]
  },
  {
   "cell_type": "code",
   "execution_count": 23,
   "id": "8da23375-7d09-480d-98a7-98b7ad278caa",
   "metadata": {},
   "outputs": [
    {
     "data": {
      "image/png": "[encoded data removed]",
      "text/latex": [
       "$\\displaystyle \\frac{\\sqrt{2} n_{I} p^{2} e^{- \\frac{p^{2}}{2 T k_{B} m}}}{\\sqrt{\\pi} T^{\\frac{3}{2}} k_{B}^{\\frac{3}{2}} m^{\\frac{3}{2}}}$"
      ],
      "text/plain": [
       "                2   \n",
       "              -p    \n",
       "           ─────────\n",
       "        2  2⋅T⋅k_B⋅m\n",
       "√2⋅n_I⋅p ⋅ℯ         \n",
       "────────────────────\n",
       "    3/2    3/2  3/2 \n",
       "√π⋅T   ⋅k_B   ⋅m    "
      ]
     },
     "execution_count": 23,
     "metadata": {},
     "output_type": "execute_result"
    }
   ],
   "source": [
    "n = 4*pi* p**2 * ni / (2 * pi * m * k *T)**Rational(3,2) * exp(-p**2/(2*m*k*T))\n",
    "n"
   ]
  },
  {
   "cell_type": "markdown",
   "id": "9581181c-f486-4e57-a7c3-cb9b456b635c",
   "metadata": {},
   "source": [
    "## a. average velocity\n",
    "\n",
    "We want to compute the average velocity:\n",
    "\n",
    "$$\\langle v \\rangle = \\frac{1}{n_I} \\int_{-\\infty}^{\\infty} n(v)v d^3 v$$\n",
    "\n",
    "We'll express $v = p / m$ and work in terms of momentum\n",
    "\n",
    "$$\\langle v \\rangle = \\frac{1}{m n_I} \\int_{-\\infty}^{\\infty} n(p) p d^3 p$$\n",
    "\n",
    "now switching to spherical coordinates in momentum space:\n",
    "\n",
    "$$\\langle v \\rangle = \\frac{1}{m n_I} \\int_{0}^{\\infty} 4 \\pi n(p) p^3 dp$$\n"
   ]
  },
  {
   "cell_type": "code",
   "execution_count": 24,
   "id": "91f8936d-916a-4917-b0b3-3b54e785842c",
   "metadata": {},
   "outputs": [
    {
     "data": {
      "image/png": "[encoded data removed]",
      "text/latex": [
       "$\\displaystyle \\frac{2 \\sqrt{2} \\sqrt{T} \\sqrt{k_{B}}}{\\sqrt{\\pi} \\sqrt{m}}$"
      ],
      "text/plain": [
       "          _____\n",
       "2⋅√2⋅√T⋅╲╱ k_B \n",
       "───────────────\n",
       "     √π⋅√m     "
      ]
     },
     "execution_count": 24,
     "metadata": {},
     "output_type": "execute_result"
    }
   ],
   "source": [
    "vavg = (1/ni) * integrate(n * p / m, (p, 0, oo))\n",
    "vavg"
   ]
  },
  {
   "cell_type": "markdown",
   "id": "c2469529-5d81-45cf-bef6-608bd5ddd691",
   "metadata": {},
   "source": [
    "Notice that this value is greater than the most likely velocity (where the peak of the M-B) distribution is.  This is because there is a long tail to high velocities.  We can see this via a plot"
   ]
  },
  {
   "cell_type": "code",
   "execution_count": 25,
   "id": "8e6830c1-1d96-4d20-a5f8-b50f88f0276b",
   "metadata": {},
   "outputs": [],
   "source": [
    "xi = symbols(\"xi\")"
   ]
  },
  {
   "cell_type": "markdown",
   "id": "3b592bda-9289-4f9c-8182-e03bad7c1c6c",
   "metadata": {},
   "source": [
    "We'll define a dimensionless momentum to allow us to plot this:\n",
    "\n",
    "$$\\xi = \\frac{p}{\\sqrt{2mkT}}$$\n",
    "\n",
    "Then\n",
    "\n",
    "$$n(p)dp \\rightarrow n(\\xi) d\\xi$$\n",
    "\n",
    "with $n(xi) d\\xi$ as"
   ]
  },
  {
   "cell_type": "code",
   "execution_count": 26,
   "id": "b5b58c04-9d82-47a8-8f92-fb99d7ee3583",
   "metadata": {},
   "outputs": [],
   "source": [
    "n_dxi = n.subs(p, sqrt(2*m*k*T)*xi)/ni * sqrt(2*m*k*T)"
   ]
  },
  {
   "cell_type": "markdown",
   "id": "997cebcf-3e31-4b31-896b-24a49c75c3b4",
   "metadata": {},
   "source": [
    "and our average velocity is then:"
   ]
  },
  {
   "cell_type": "code",
   "execution_count": 27,
   "id": "e130b577-d441-421b-b5b3-d58473db4d5f",
   "metadata": {},
   "outputs": [
    {
     "data": {
      "image/png": "[encoded data removed]",
      "text/latex": [
       "$\\displaystyle \\frac{2}{\\sqrt{\\pi}}$"
      ],
      "text/plain": [
       "2 \n",
       "──\n",
       "√π"
      ]
     },
     "execution_count": 27,
     "metadata": {},
     "output_type": "execute_result"
    }
   ],
   "source": [
    "xi_avg = m * vavg / sqrt(2*m*k*T)\n",
    "xi_avg"
   ]
  },
  {
   "cell_type": "code",
   "execution_count": 28,
   "id": "5503e686-7f98-406b-a250-cc5a804f4ca9",
   "metadata": {},
   "outputs": [
    {
     "data": {
      "image/png": "[encoded data removed]",
      "text/plain": [
       "<Figure size 640x480 with 1 Axes>"
      ]
     },
     "metadata": {},
     "output_type": "display_data"
    },
    {
     "data": {
      "text/plain": [
       "<sympy.plotting.plot.Plot at 0x7f0b17cbbbe0>"
      ]
     },
     "execution_count": 28,
     "metadata": {},
     "output_type": "execute_result"
    }
   ],
   "source": [
    "plot(n_dxi, (xi, 0, 5),\n",
    "     markers=[{'args': [[xi_avg], [n_dxi.subs(xi, xi_avg)], \"o\"]}])"
   ]
  },
  {
   "cell_type": "markdown",
   "id": "0c140332-8439-4fbc-8c67-faea4fb747c7",
   "metadata": {},
   "source": [
    "Here we see that the average velocity is slightly larger than the most probably velocity (the location of the peak)."
   ]
  },
  {
   "cell_type": "markdown",
   "id": "82651348-a3d1-4913-9ad2-f399d1f1fdef",
   "metadata": {},
   "source": [
    "## b. pressure\n",
    "\n",
    "Now we want to compute the pressure via\n",
    "\n",
    "$$P = \\frac{1}{3} \\int n(p) v p d^3p = \\frac{1}{3} \\int_0^\\infty 4\\pi p^2 n(p) \\frac{p}{m} p dp $$\n",
    "\n",
    "again, we'll work in terms of spherical coordinates in momentum-space"
   ]
  },
  {
   "cell_type": "code",
   "execution_count": 29,
   "id": "e0f12e84-f7b6-48fe-8ab6-ccc4b0cb2699",
   "metadata": {},
   "outputs": [
    {
     "data": {
      "image/png": "[encoded data removed]",
      "text/latex": [
       "$\\displaystyle T k_{B} n_{I}$"
      ],
      "text/plain": [
       "T⋅k_B⋅n_I"
      ]
     },
     "execution_count": 29,
     "metadata": {},
     "output_type": "execute_result"
    }
   ],
   "source": [
    "P = Rational(1, 3) * integrate(n * p / m * p, (p, 0, oo))\n",
    "P"
   ]
  },
  {
   "cell_type": "markdown",
   "id": "d547db00-9e1b-40ef-bf78-8841084ebae8",
   "metadata": {},
   "source": [
    "as you see, we recover the familiar ideal gas law!\n",
    "\n",
    "$$P = n_I k T$$"
   ]
  },
  {
   "cell_type": "markdown",
   "id": "4fdfb460-a8e2-42dd-86dc-0dce03884d60",
   "metadata": {},
   "source": [
    "## c. energy\n",
    "\n",
    "Now the energy.  This is computed as:\n",
    "\n",
    "$$\\rho e = \\int n(p) \\mathcal{E}(p) d^3 p$$\n",
    "\n",
    "we take\n",
    "\n",
    "$$\\mathcal{E}(p) = \\frac{p^2}{2 m}$$\n",
    "\n",
    "since we are not relativistic."
   ]
  },
  {
   "cell_type": "code",
   "execution_count": 30,
   "id": "6d3f47ed-a57e-43ec-8f8b-3664cf668501",
   "metadata": {},
   "outputs": [
    {
     "data": {
      "image/png": "[encoded data removed]",
      "text/latex": [
       "$\\displaystyle \\frac{3 T k_{B} n_{I}}{2}$"
      ],
      "text/plain": [
       "3⋅T⋅k_B⋅n_I\n",
       "───────────\n",
       "     2     "
      ]
     },
     "execution_count": 30,
     "metadata": {},
     "output_type": "execute_result"
    }
   ],
   "source": [
    "rhoE = integrate(n * p**2 / (2 * m), (p, 0, oo))\n",
    "rhoE"
   ]
  },
  {
   "cell_type": "markdown",
   "id": "f7f81215-fe80-41ac-8ef8-6ed18e1cd78e",
   "metadata": {},
   "source": [
    "From this we see that\n",
    "\n",
    "$$\\rho e = \\frac{3}{2} P$$"
   ]
  },
  {
   "cell_type": "code",
   "execution_count": null,
   "id": "751ede5d-346d-4830-b0e6-1d5b018d8aa8",
   "metadata": {},
   "outputs": [],
   "source": []
  }
 ],
 "metadata": {
  "kernelspec": {
   "display_name": "Python 3 (ipykernel)",
   "language": "python",
   "name": "python3"
  },
  "language_info": {
   "codemirror_mode": {
    "name": "ipython",
    "version": 3
   },
   "file_extension": ".py",
   "mimetype": "text/x-python",
   "name": "python",
   "nbconvert_exporter": "python",
   "pygments_lexer": "ipython3",
   "version": "3.10.6"
  }
 },
 "nbformat": 4,
 "nbformat_minor": 5
}
